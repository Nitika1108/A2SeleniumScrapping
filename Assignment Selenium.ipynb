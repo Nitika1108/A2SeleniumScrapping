{
 "cells": [
  {
   "cell_type": "code",
   "execution_count": 60,
   "id": "635623b8",
   "metadata": {},
   "outputs": [
    {
     "name": "stdout",
     "output_type": "stream",
     "text": [
      "Requirement already satisfied: selenium in c:\\users\\nitik\\anaconda3\\lib\\site-packages (3.141.0)\n",
      "Requirement already satisfied: urllib3 in c:\\users\\nitik\\anaconda3\\lib\\site-packages (from selenium) (1.26.4)\n"
     ]
    }
   ],
   "source": [
    "#Install selenium library\n",
    "!pip install selenium"
   ]
  },
  {
   "cell_type": "code",
   "execution_count": 61,
   "id": "45095f0a",
   "metadata": {},
   "outputs": [],
   "source": [
    "import selenium\n",
    "import pandas as pd\n",
    "from selenium import webdriver\n",
    "from selenium.common.exceptions import NoSuchElementException"
   ]
  },
  {
   "cell_type": "code",
   "execution_count": 62,
   "id": "d95b69a7",
   "metadata": {},
   "outputs": [],
   "source": [
    "# connect to web driver\n",
    "driver = webdriver.Chrome(r\"C:\\Users\\nitik\\Downloads\\chromedriver_win32\\chromedriver.exe\")"
   ]
  },
  {
   "cell_type": "code",
   "execution_count": 63,
   "id": "034392d7",
   "metadata": {},
   "outputs": [],
   "source": [
    "#1 Write a python program to scrape data for “Data Scientist” Job position in \n",
    "#“Bangalore” location. You have to scrape the job-title, job-location,\n",
    "#company_name, full job-description. You have to scrape first 10 jobs data.\n",
    "\n",
    "#Upload file in current directory to not write full path\n",
    "url = 'https://www.naukri.com/data-scientist-jobs-in-banglore-bengaluru'\n",
    "driver.get(url)#driver = webdriver.Chrome(\"chromedriver.exe\")"
   ]
  },
  {
   "cell_type": "code",
   "execution_count": 64,
   "id": "f3bcd8a9",
   "metadata": {},
   "outputs": [],
   "source": [
    "#Fetching urls\n",
    "urls = []\n",
    "for i in driver.find_elements_by_xpath(\"//a[@class='title fw500 ellipsis']\"):\n",
    "    urls.append(i.get_attribute(\"href\"))"
   ]
  },
  {
   "cell_type": "code",
   "execution_count": 65,
   "id": "c002a8bf",
   "metadata": {},
   "outputs": [
    {
     "data": {
      "text/plain": [
       "20"
      ]
     },
     "execution_count": 65,
     "metadata": {},
     "output_type": "execute_result"
    }
   ],
   "source": [
    "len(urls)"
   ]
  },
  {
   "cell_type": "code",
   "execution_count": 66,
   "id": "7f3bc206",
   "metadata": {},
   "outputs": [
    {
     "data": {
      "text/plain": [
       "['https://www.naukri.com/job-listings-data-scientist-senior-business-analyst-lead-analyst-evalueserve-com-pvt-ltd-gurgaon-gurugram-bangalore-bengaluru-2-to-7-years-110821005065?src=jobsearchDesk&sid=16288666697826908&xp=1&px=1',\n",
       " 'https://www.naukri.com/job-listings-senior-data-scientist-signify-bangalore-bengaluru-4-to-9-years-120821500683?src=jobsearchDesk&sid=16288666697826908&xp=2&px=1',\n",
       " 'https://www.naukri.com/job-listings-senior-data-scientist-analytics-luxoft-bangalore-bengaluru-5-to-10-years-120821501307?src=jobsearchDesk&sid=16288666697826908&xp=3&px=1',\n",
       " 'https://www.naukri.com/job-listings-data-scientist-advanced-analytics-ibm-india-pvt-limited-bangalore-bengaluru-5-to-10-years-110821906281?src=jobsearchDesk&sid=16288666697826908&xp=4&px=1',\n",
       " 'https://www.naukri.com/job-listings-data-scientist-ibm-india-pvt-limited-bangalore-bengaluru-3-to-6-years-120821907824?src=jobsearchDesk&sid=16288666697826908&xp=5&px=1',\n",
       " 'https://www.naukri.com/job-listings-senior-data-scientist-smiths-detection-systems-private-limited-bangalore-bengaluru-8-to-10-years-260721903257?src=jobsearchDesk&sid=16288666697826908&xp=6&px=1',\n",
       " 'https://www.naukri.com/job-listings-lead-data-scientist-transorg-solutions-services-p-ltd-bangalore-bengaluru-delhi-ncr-mumbai-all-areas-4-to-6-years-160721005471?src=jobsearchDesk&sid=16288666697826908&xp=7&px=1',\n",
       " 'https://www.naukri.com/job-listings-senior-data-scientist-philips-india-limited-bangalore-bengaluru-8-to-10-years-060821501599?src=jobsearchDesk&sid=16288666697826908&xp=8&px=1',\n",
       " 'https://www.naukri.com/job-listings-senior-data-scientist-kpo-talentco-search-pvt-ltd-mumbai-bangalore-bengaluru-delhi-ncr-6-to-10-years-110821908145?src=jobsearchDesk&sid=16288666697826908&xp=9&px=1',\n",
       " 'https://www.naukri.com/job-listings-senior-data-scientist-talentco-search-pvt-ltd-mumbai-delhi-ncr-bangalore-bengaluru-6-to-10-years-130821901245?src=jobsearchDesk&sid=16288666697826908&xp=10&px=1',\n",
       " 'https://www.naukri.com/job-listings-lead-data-scientist-retail-industry-ibm-india-pvt-limited-bangalore-bengaluru-7-to-10-years-100821908363?src=jobsearchDesk&sid=16288666697826908&xp=11&px=1',\n",
       " 'https://www.naukri.com/job-listings-senior-lead-data-scientist-superior-group-bangalore-bengaluru-6-to-11-years-100821500375?src=jobsearchDesk&sid=16288666697826908&xp=12&px=1',\n",
       " 'https://www.naukri.com/job-listings-advanced-data-scientist-exxon-mobil-corporation-bangalore-bengaluru-10-to-15-years-120821500623?src=jobsearchDesk&sid=16288666697826908&xp=13&px=1',\n",
       " 'https://www.naukri.com/job-listings-data-scientist-travel-centric-technology-bangalore-bengaluru-6-to-11-years-110821500209?src=jobsearchDesk&sid=16288666697826908&xp=14&px=1',\n",
       " 'https://www.naukri.com/job-listings-data-scientist-with-sas-musigma-business-solutions-private-limited-bangalore-bengaluru-3-to-8-years-130821002128?src=jobsearchDesk&sid=16288666697826908&xp=15&px=1',\n",
       " 'https://www.naukri.com/job-listings-data-scientist-cignex-datamatics-technologies-limited-bangalore-bengaluru-7-to-12-years-120821005670?src=jobsearchDesk&sid=16288666697826908&xp=16&px=1',\n",
       " 'https://www.naukri.com/job-listings-data-scientist-natural-language-processing-hyderabad-location-clifford-chance-business-services-private-limited-hyderabad-secunderabad-pune-chennai-bangalore-bengaluru-5-to-10-years-120821000435?src=jobsearchDesk&sid=16288666697826908&xp=17&px=1',\n",
       " 'https://www.naukri.com/job-listings-looking-for-data-scientist-for-chennai-location-intelizign-engineering-services-pvt-ltd-hyderabad-secunderabad-chennai-bangalore-bengaluru-3-to-7-years-110821004891?src=jobsearchDesk&sid=16288666697826908&xp=18&px=1',\n",
       " 'https://www.naukri.com/job-listings-data-scientist-elpis-it-solutions-pvt-ltd-bangalore-bengaluru-3-to-8-years-120821005878?src=jobsearchDesk&sid=16288666697826908&xp=19&px=1',\n",
       " 'https://www.naukri.com/job-listings-data-scientist-cognizant-technology-solutions-india-pvt-ltd-chennai-bangalore-bengaluru-10-to-12-years-090821904407?src=jobsearchDesk&sid=16288666697826908&xp=20&px=1']"
      ]
     },
     "execution_count": 66,
     "metadata": {},
     "output_type": "execute_result"
    }
   ],
   "source": [
    "urls"
   ]
  },
  {
   "cell_type": "code",
   "execution_count": 67,
   "id": "35474e01",
   "metadata": {},
   "outputs": [],
   "source": [
    "#defining variables\n",
    "job_title=[]\n",
    "job_description=[]\n",
    "job_location=[]\n",
    "company_name=[]"
   ]
  },
  {
   "cell_type": "code",
   "execution_count": 68,
   "id": "87546557",
   "metadata": {},
   "outputs": [],
   "source": [
    "for i in urls[:10]:\n",
    "    driver.get(i)\n",
    "    #time.sleep(5)\n",
    "    #fetching job title\n",
    "    try:\n",
    "        job=driver.find_element_by_xpath(\"//h1[@class='jd-header-title']\")\n",
    "        job_title.append(job.text.replace(\"/n\",\"new line\"))\n",
    "    except NoSuchElementException:\n",
    "        job_title.append('-')\n",
    "    #fetching job location\n",
    "    try:\n",
    "        job_loc=driver.find_element_by_xpath(\"//span[@class='ellipsis fleft fs12 lh16']\")\n",
    "        job_location.append(job_loc.text)\n",
    "    except:\n",
    "        job_location.append('-')\n",
    "        #fetching company name\n",
    "    try:\n",
    "        comp_name=driver.find_element_by_xpath(\"//a[@class='subTitle ellipsis fleft']\")\n",
    "        company_name.append(comp_name.text)\n",
    "    except:\n",
    "        company_name.append('-')\n",
    "\n",
    "    #fetching job description\n",
    "    try:\n",
    "        job_desc=driver.find_element_by_xpath(\"//section[@class='job-desc']\")\n",
    "        job_description.append(job_desc.text)\n",
    "    except:\n",
    "        job_description.append('-')"
   ]
  },
  {
   "cell_type": "code",
   "execution_count": 69,
   "id": "30cbf29e",
   "metadata": {},
   "outputs": [
    {
     "name": "stdout",
     "output_type": "stream",
     "text": [
      "['Data Scientist- Senior Business Analyst/Lead Analyst', 'Senior Data Scientist', 'Senior Data Scientist (Analytics),', '-', '-', '-', 'Lead Data Scientist', 'Senior Data Scientist', 'Senior Data Scientist - KPO', 'Senior Data Scientist']\n",
      "['Job description\\nJob Description\\nUnderstand and design analytical solutions to business problems leveraging data science\\nUnderstand and get requirements from Stakeholders\\nPropose and execute solutions and present deliverables to stakeholders\\nManage and optimize deliverables\\nMentor and train new team members\\nDevelop POCs to enhance the teams capability\\n\\nRequirements\\nUnderstanding of mathematical, statistical, and theoretical foundations of statistics and machine learning (ML) and parametric and non-parametric models\\nKnowledge of advanced data mining techniques, curating, processing, and transforming data to produce datasets\\nUse statistical techniques and ML methods for predictive modeling / classification of problems around clients, distribution, sales, marketing, client profiles, and segmentation\\nProvide relevant and actionable recommendations / insights for businesses\\nUnderstanding of ML lifecycle that includes feature engineering, training, validation, scaling, deployment, scoring, monitoring, and feedback loop\\nExpertise in SAS Visual Analytics, Tableau, and Python\\nExpert in Python / R / SAS\\nExperience with cloud computing infrastructure, such as AWS / Azure / GCP\\nAble to develop, test, and deploy models on cloud / web\\n\\nEducation and Experience\\nBE / B.Tech. / MBA / M.Stat. / M.SC. or equivalent degree in Quant. from a reputed institute\\n2-8 years of relevant experience\\n\\nRoleBusiness Analyst\\nIndustry TypeAnalytics / KPO / Research\\nFunctional AreaAnalytics & Business Intelligence\\nEmployment TypeFull Time, Permanent\\nRole CategoryAnalytics & BI\\nEducation\\nUG :B.Tech/B.E. in Any Specialization\\nKey Skills\\nPredictive ModelingData ScienceRMarketing Mix ModelingData MiningMarketing AnalyticsMachine LearningPythonSales Analytics', 'Job description\\nWhat you ll do\\nResearch, design and prototype robust and scalable models based on machine learning, data mining, and statistical modeling to answer key business problems\\nBuild tools and support structures needed to analyze data, perform elements of data cleaning, feature selection and feature engineering and deliver projects in conjunction with best practices\\nWork with development teams business groups to ensure models can be implemented as part of a delivered solution and can be replicated across multiple markets / countries\\nPresent findings to stakeholders to drive improvements and solutions from concept through to delivery\\nKeep abreast of the latest developments in the field by continuous learning and proactively champion promising new methods relevant to the problems at hand\\nWhat you ll need\\nPhD / Masters / B.Tech in computer science, computer engineering with 7+ years of demonstrated experience in the Advanced Analytics / Machine Learning field\\nDemonstrated history of driving and delivering analytics models and solutions\\nDeep knowledge of fundamentals of machine learning, data mining and statistical modeling, and extensive experience applying these methods to real world problems\\nStrong skills in software prototyping and engineering with expertise in applicable programming and analytics languages (Python, R, SQL) and various open source machine learning and analytics packages. Good knowledge of SAP Datahub is highly desired\\nAbility and inclination to work in multi-disciplinary environments, and desire to see ideas realize in practice\\nWhat you ll get in return\\nOpportunity to work on some of the highly complex and challenging business problems across a variety of functional domains and consumer markets\\nCompetitive salary depending on experience\\nExtensive set of tools to drive your career, such as a personalized learning platform, free training and coaching\\nRoleInstructional Designer\\nIndustry TypeElectronic Components / Semiconductors\\nFunctional AreaIT Software - Other\\nEmployment TypeFull Time, Permanent\\nRole CategoryQA/Testing/Documentation\\nEducation\\nUG :B.Tech/B.E. in Computers\\nPG :M.Tech in Computers\\nKey Skills\\nSupply chainComputer scienceSAPPrototypeMachine learningInformation managementOpen sourceData miningSQLPython', 'Job description\\n\\n  Data and Analytics Proposal Responses for Cross Industry Solutions.\\nThe position is for the global client solutioning team. Analytics client solutioning team supports various Analytics opportunities, which mainly includes RFP responses, Analytics technical consulting etc.\\n\\nWe are a global team and we provide Analytics solutioning support from India spanning across all regions globally.\\n\\nOur current openings are for the Solution Architects, who can provide solutions like:\\n- Data Engineering This includes data engineering solutioning and data management solutioning ( Both on Premise and on Cloud solutions)\\n- Data Modernization This involves Analytics workload migration to cloud solutions , Analytics modernization (end-to-end).\\n- Analytics AI - This involves solutioning Advanced analytics models / solutions spanning across all Industries\\n\\n\\nResponsibilities\\nGlobal Analytics Client Solutioning -\\nResponsible for constructing responses to Analytics Solutions as response to RFP\\nResponsible for providing consulting services on Analytics\\nResponsible for Analytics Solutions as response to RFP\\n\\n\\nSkills\\nMust have\\n9+ years working as a Data Scientist with Lead experience.\\nMSc or PhD in machine learning, computer science, mathematical science or similar.\\nExperience in Solutioning Business requirements into fully operationalized AI / ML Projects\\nExperience in leading data science engagements and/or other data scientists within a project.\\nAble to articulate complex data science concepts to both technical and non-technical audiences\\nExperience in Deep Learning and other Machine Learning techniques (e.g. regression, classification, topic modelling, time series, Neural Networks).\\nExposure / Knowledge in all Data Science offerings (Machine Learning, Anomaly Detection, Text Analytics / NLP, Computer Vision, Deep Learning)\\nStrong Experience with machine learning in Python, SQL, Pandas, Numpy, Scikit Learn, Tensorflow, Keras, PyTorch or equivalent\\nShould be able to drive creation of PoCs and contribute to CoEs working with the Delivery team\\nShould have sound understanding of Agile, DevOps, CI/CD, source control and automated testing\\nExpertise in ML Ops Deployments in one or more projects\\nExperience of working in cloud environments (Azure, GCP, AWS etc)\\nSpark / Hive/ Big Data Tools (Athena/Big Query etc...)\\nStrong domain expertise in 1 or more industry or have exposure to multiple business process scenario\\nExcited about data science!\\nNice to have\\nShould have sound understanding of Agile, DevOps, CI/CD, source control and automated testing\\nExperience of working in cloud environments (Azure, GCP, AWS etc)\\nSpark / Hive/ Big Data Tools (Athena/Big Query etc...)\\n\\n  RoleBusiness Analyst\\nIndustry TypeIT Services & Consulting\\nFunctional AreaStrategy, Management Consulting, Corporate Planning\\nEmployment TypeFull Time, Permanent\\nRole CategoryCorporate Planning/Consulting/Strategy\\nEducation\\nUG :Any Graduate\\nPG :Post Graduation Not Required\\nKey Skills\\nComputer scienceBusiness processData managementConsultingMachine learningAgileRFPAnalyticsSQLPython', '-', '-', '-', \"Job description\\nRoles and Responsibilities\\n\\nWell-versed in quantitative analysis, data mining, trend analysis, customer profiling, clustering and predictive modelling.\\nExecuting the data-driven planning process by building models and frameworks that connect business unit drivers to company financials and forecast to take the correct decision as per the business need.\\nShould be able to handle assigned tasks in the capacity of individual contributor.\\nDemonstrate excellent teamwork.\\nCollaborate with other data analysts to provide development coverage, support, and Knowledge sharing and mentoring of junior team members.\\n\\n\\n\\nDesired Candidate Profile\\n\\nBachelor's in Computer Science, Engineering, Statistics, Maths or related quantitative degree preferably from IIT, NIT, DTU and NSIT.\\n4-6 years of relevant experience in data science.\\nProblem solver who is passionate to deep dive into data and generate insights\\nExperience of data pre-processing and data manipulation using R, Python or SQL\\nShould have some experience in statistical techniques like linear regression, logistic regression, clustering etc.\\nFamiliarity with Machine Learning and AI techniques is a plus\\nTrack record of managing data project delivery including ability to meet deadlines, overcome challenges, manage stakeholder expectations, and produce clear deliverables\\nExcellent critical thinker with a strong verbal and written communications skills.\\nAbility and desire to work in a proactive, highly engaging, high-pressure, client service environment.\\nUnderstanding of Cloud Platforms (e.g. Azure / AWS) and ability to use them for developing, training and testing deep learning models\\n\\n\\n\\n\\n\\nRoleAnalytics Manager\\nIndustry TypeAnalytics / KPO / Research\\nFunctional AreaAnalytics & Business Intelligence\\nEmployment TypeFull Time, Permanent\\nRole CategoryAnalytics & BI\\nEducation\\nUG :BCA in Any Specialization, B.Tech/B.E. in Any Specialization, B.Sc in Any Specialization\\nPG :MS/M.Sc(Science) in Any Specialization, M.Tech in Any Specialization, MCA in Any Specialization\\nKey Skills\\nRPythonSQL\\nData ScienceData ManipulationArtificial IntelligenceLinear RegressionMachine LearningStatisticsDeep Learning\\nSkills highlighted with ‘‘ are preferred keyskills\", 'Job description\\n  Be a part of the Enterprise IT , Information and Data Science team and drive a strategic and actionable Data Science architecture to activate the needed business capabilities. Deliver business use cases like Care Provider (Customer, Product , IB ) 360 initiative, Product bundling , Value Based pricing , Conversational AI, Indirect Trade partner classification , Data pipeline predictions etc - an ambition to better understand the needs of Healthcare Providers, the way Philips serves its customers and how and where Philips can add value to the customer decision journey.\\nYour responsibilities\\nEnsure strategic direction for data science capabilities for Philips is created and kept up to date on a regular basis\\nContinuously evaluate the latest techniques in Artificial intelligence, machine learning, robotics, statistical analysis\\nImplement advanced algorithms for business problems based on statistical analysis, coding, deep learning, advanced data mining techniques etc.\\nDevelop new algorithms if necessary, to bring predictive, advanced statistics / learning based solutions\\nDevelop algorithms to further automate processes and feed insights back into PIL for better business outcome\\nCo-create with business / market / functions or IT platforms on requirements\\nEnsure quality of data and solution developed\\nLead and drive data mining, creating algorithms, collection of data, collection of procedures during the design, build phases of a project\\nLead and drive in deploy and testing of the solutions and insights\\nSpot and evaluate emerging/cutting edge, open source, data science/machine learning libraries\\nYou are part of:\\nYou will be part of Group IT , Information and Data Management team that drives business impact through Data Science and Advanced analytics. A team that instigates collaboration across diverse teams globally to manage Data as an asset at Philips.\\nCore competencies needed to be successful:\\nA Master s Degree or PhD in Computer Science, Econometrics, Artificial Intelligence, Applied Mathematics, Statistics or equivalent;\\n8-10 years of overall experience in data science, data analytics roles\\n8+ years of experience in multiple of machine learning, data mining, deep learning, artificial intelligence, pattern recognition areas\\nExperience in driving implementation of solutions, data and algorithms on data warehouse and lakes like Azure , AWS, SQL etc\\nDemonstrable advanced programming experience in Python or another programming language such as Azure ML/R/Python etc ;\\nStrong analytical and social skills and the capability to translate data intelligence into valuable insights for the senior stakeholders in the company\\nAbility to formulate multiple complex business problems into hypothesis and proof of concepts for testing\\nManage Projects and lead a sub-portfolio of data science project teams to deliver results\\nCoach, Guide and direct teams of internal and vendor resources\\nCollaborate across IT platform teams to deploy solutions and drive continuous improvements\\nManage senior stakeholder in the company in a matrix organization i.e. Market / BG / Function leaders\\nRoleBusiness/EDP Analyst\\nIndustry TypeMedical Services / Hospital\\nFunctional AreaITES, BPO, KPO, LPO, Customer Service, Operations\\nEmployment TypeFull Time, Permanent\\nRole CategoryOperations\\nEducation\\nUG :Any Graduate\\nPG :Post Graduation Not Required\\nKey Skills\\nComputer scienceData managementCodingAnalyticalMachine learningHealthcareData miningRoboticsSQLPython', 'Job description\\n- Ability to understand a problem statement and implement analytical solutions & techniques independently with independently/proactively/thought-leadership.\\n\\n- Work with stakeholders throughout the organization to identify opportunities for leveraging company/client data to drive business solutions.\\n\\n- Fast learner: ability to learn and pick up a new language/tool/ platform quickly.\\n\\n- Conceptualize, design, and deliver high-quality solutions and insightful analysis.\\n\\n- Conduct research and prototyping innovations; data and requirements gathering; solution scoping and architecture; consulting clients and client facing teams on advanced statistical and machine learning problems.\\n\\n- Collaborate and Coordinate with different functional teams(engineering and product development) to implement models and monitor outcomes.\\n\\n- Ability to deliver AIML based solutions around a host of domains and problems, with some of them being: Customer Segmentation & Targeting, Propensity Modeling, Churn Modeling, Lifetime Value Estimation, Forecasting, Recommender Systems, Modeling Response to Incentives, Marketing Mix Optimization, Price Optimization\\n\\nExperience Required:\\n\\n- Expert level proficiency in Python.\\n\\n- Ability to create efficient solutions to complex problems. Strong skills in data-structures and ML algorithms.\\n\\n- Experience of working on end-to-end data science pipeline: problem scoping, data gathering, EDA, modelling, insights, visualizations, monitoring and maintenance.\\n\\n- Problem-solving: Ability to break the problem into small parts and applying relevant techniques to drive required outcomes.\\n\\n- Intermediate to advanced knowledge of machine learning, probability theory, statistics, and algorithms. You will be required to discuss and use various algorithms and approaches on a daily basis.\\n\\n- We use regression, Bayesian methods, tree-based learners, SVM, RF, XGBOOST, time series modeling, dimensionality reduction, SEM, GLM, GLMM, clustering, Deep learning etc. on a regular basis. If you know few of them you are good to go.\\n\\nGood to Have:\\n\\n- Experience in one of the upcoming technologies like deep learning, NLP, image processing, recommender systems\\n\\n- Experience of working in on one or more domains:\\n\\n- CPG: pricing and promotion analytics, marketing analytics, trade promotions, supply chain management\\n\\n- BFSI: cross-sell, up-sell, campaign analytics, treasury analytics, fraud detection\\n\\n- Healthcare: medical adherence, medical risk profiling, EHR data, fraud-waste-abuse\\n\\n- Experience in working with Linux computing environment and use of command line tools like sed/awk\\n\\n- Good grasp on databases including RDBMS, NoSQL, MongoDB etc.\\nRoleData Analyst\\nIndustry TypeAnalytics / KPO / Research\\nFunctional AreaAnalytics & Business Intelligence\\nEmployment TypeFull Time, Permanent\\nRole CategoryAnalytics & BI\\nEducation\\nUG :Any Graduate\\nPG :Any Postgraduate\\nDoctorate :Doctorate Not Required\\nKey Skills\\nData ScienceNLPData ScientistArtificial IntelligenceData ManagementStatistical ModelingMarketing AnalyticsMachine LearningAnalyticsSQL', 'Job description\\n- Ability to understand a problem statement and implement analytical solutions & techniques independently with independently/proactively/thought-leadership.\\n\\n- Work with stakeholders throughout the organization to identify opportunities for leveraging company/client data to drive business solutions.\\n\\n- Fast learner: ability to learn and pick up a new language/tool/ platform quickly.\\n\\n- Conceptualize, design, and deliver high-quality solutions and insightful analysis.\\n\\n- Conduct research and prototyping innovations; data and requirements gathering; solution scoping and architecture; consulting clients and client facing teams on advanced statistical and machine learning problems.\\n\\n- Collaborate and Coordinate with different functional teams(engineering and product development) to implement models and monitor outcomes.\\n\\n- Ability to deliver AIML based solutions around a host of domains and problems, with some of them being: Customer Segmentation & Targeting, Propensity Modeling, Churn Modeling, Lifetime Value Estimation, Forecasting, Recommender Systems, Modeling Response to Incentives, Marketing Mix Optimization, Price Optimization\\n\\nExperience Required:\\n\\n- Expert level proficiency in Python.\\n\\n- Ability to create efficient solutions to complex problems. Strong skills in data-structures and ML algorithms.\\n\\n- Experience of working on end-to-end data science pipeline: problem scoping, data gathering, EDA, modelling, insights, visualizations, monitoring and maintenance.\\n\\n- Problem-solving: Ability to break the problem into small parts and applying relevant techniques to drive required outcomes.\\n\\n- Intermediate to advanced knowledge of machine learning, probability theory, statistics, and algorithms. You will be required to discuss and use various algorithms and approaches on a daily basis.\\n\\n- We use regression, Bayesian methods, tree-based learners, SVM, RF, XGBOOST, time series modeling, dimensionality reduction, SEM, GLM, GLMM, clustering, Deep learning etc. on a regular basis. If you know few of them you are good to go.\\n\\nGood to Have:\\n\\n- Experience in one of the upcoming technologies like deep learning, NLP, image processing, recommender systems\\n\\n- Experience of working in on one or more domains:\\n\\n- CPG: pricing and promotion analytics, marketing analytics, trade promotions, supply chain management\\n\\n- BFSI: cross-sell, up-sell, campaign analytics, treasury analytics, fraud detection\\n\\n- Healthcare: medical adherence, medical risk profiling, EHR data, fraud-waste-abuse\\n\\n- Experience in working with Linux computing environment and use of command line tools like sed/awk\\n\\n- Good grasp on databases including RDBMS, NoSQL, MongoDB etc.\\nRoleData Analyst\\nIndustry TypeAnalytics / KPO / Research\\nFunctional AreaAnalytics & Business Intelligence\\nEmployment TypeFull Time, Permanent\\nRole CategoryAnalytics & BI\\nEducation\\nUG :Any Graduate\\nPG :Any Postgraduate\\nDoctorate :Doctorate Not Required\\nKey Skills\\nData ScienceNoSQLData StructuresGoSupply Chain ManagementMarketing AnalyticsMachine LearningDeep LearningPython']\n",
      "['-', '-', '-', '-', '-', '-', '-', '-', '-', '-']\n",
      "['-', '-', '-', '-', '-', '-', '-', '-', '-', '-']\n"
     ]
    }
   ],
   "source": [
    "print(job_title)\n",
    "print(job_description)\n",
    "print(job_location)\n",
    "print(company_name)"
   ]
  },
  {
   "cell_type": "code",
   "execution_count": 70,
   "id": "0f1d4fb0",
   "metadata": {},
   "outputs": [
    {
     "data": {
      "text/html": [
       "<div>\n",
       "<style scoped>\n",
       "    .dataframe tbody tr th:only-of-type {\n",
       "        vertical-align: middle;\n",
       "    }\n",
       "\n",
       "    .dataframe tbody tr th {\n",
       "        vertical-align: top;\n",
       "    }\n",
       "\n",
       "    .dataframe thead th {\n",
       "        text-align: right;\n",
       "    }\n",
       "</style>\n",
       "<table border=\"1\" class=\"dataframe\">\n",
       "  <thead>\n",
       "    <tr style=\"text-align: right;\">\n",
       "      <th></th>\n",
       "      <th>Title</th>\n",
       "      <th>Description</th>\n",
       "      <th>Location</th>\n",
       "      <th>Company Name</th>\n",
       "    </tr>\n",
       "  </thead>\n",
       "  <tbody>\n",
       "    <tr>\n",
       "      <th>0</th>\n",
       "      <td>Data Scientist- Senior Business Analyst/Lead A...</td>\n",
       "      <td>Job description\\nJob Description\\nUnderstand a...</td>\n",
       "      <td>-</td>\n",
       "      <td>-</td>\n",
       "    </tr>\n",
       "    <tr>\n",
       "      <th>1</th>\n",
       "      <td>Senior Data Scientist</td>\n",
       "      <td>Job description\\nWhat you ll do\\nResearch, des...</td>\n",
       "      <td>-</td>\n",
       "      <td>-</td>\n",
       "    </tr>\n",
       "    <tr>\n",
       "      <th>2</th>\n",
       "      <td>Senior Data Scientist (Analytics),</td>\n",
       "      <td>Job description\\n\\n  Data and Analytics Propos...</td>\n",
       "      <td>-</td>\n",
       "      <td>-</td>\n",
       "    </tr>\n",
       "    <tr>\n",
       "      <th>3</th>\n",
       "      <td>-</td>\n",
       "      <td>-</td>\n",
       "      <td>-</td>\n",
       "      <td>-</td>\n",
       "    </tr>\n",
       "    <tr>\n",
       "      <th>4</th>\n",
       "      <td>-</td>\n",
       "      <td>-</td>\n",
       "      <td>-</td>\n",
       "      <td>-</td>\n",
       "    </tr>\n",
       "    <tr>\n",
       "      <th>5</th>\n",
       "      <td>-</td>\n",
       "      <td>-</td>\n",
       "      <td>-</td>\n",
       "      <td>-</td>\n",
       "    </tr>\n",
       "    <tr>\n",
       "      <th>6</th>\n",
       "      <td>Lead Data Scientist</td>\n",
       "      <td>Job description\\nRoles and Responsibilities\\n\\...</td>\n",
       "      <td>-</td>\n",
       "      <td>-</td>\n",
       "    </tr>\n",
       "    <tr>\n",
       "      <th>7</th>\n",
       "      <td>Senior Data Scientist</td>\n",
       "      <td>Job description\\n  Be a part of the Enterprise...</td>\n",
       "      <td>-</td>\n",
       "      <td>-</td>\n",
       "    </tr>\n",
       "    <tr>\n",
       "      <th>8</th>\n",
       "      <td>Senior Data Scientist - KPO</td>\n",
       "      <td>Job description\\n- Ability to understand a pro...</td>\n",
       "      <td>-</td>\n",
       "      <td>-</td>\n",
       "    </tr>\n",
       "    <tr>\n",
       "      <th>9</th>\n",
       "      <td>Senior Data Scientist</td>\n",
       "      <td>Job description\\n- Ability to understand a pro...</td>\n",
       "      <td>-</td>\n",
       "      <td>-</td>\n",
       "    </tr>\n",
       "  </tbody>\n",
       "</table>\n",
       "</div>"
      ],
      "text/plain": [
       "                                               Title  \\\n",
       "0  Data Scientist- Senior Business Analyst/Lead A...   \n",
       "1                              Senior Data Scientist   \n",
       "2                 Senior Data Scientist (Analytics),   \n",
       "3                                                  -   \n",
       "4                                                  -   \n",
       "5                                                  -   \n",
       "6                                Lead Data Scientist   \n",
       "7                              Senior Data Scientist   \n",
       "8                        Senior Data Scientist - KPO   \n",
       "9                              Senior Data Scientist   \n",
       "\n",
       "                                         Description Location Company Name  \n",
       "0  Job description\\nJob Description\\nUnderstand a...        -            -  \n",
       "1  Job description\\nWhat you ll do\\nResearch, des...        -            -  \n",
       "2  Job description\\n\\n  Data and Analytics Propos...        -            -  \n",
       "3                                                  -        -            -  \n",
       "4                                                  -        -            -  \n",
       "5                                                  -        -            -  \n",
       "6  Job description\\nRoles and Responsibilities\\n\\...        -            -  \n",
       "7  Job description\\n  Be a part of the Enterprise...        -            -  \n",
       "8  Job description\\n- Ability to understand a pro...        -            -  \n",
       "9  Job description\\n- Ability to understand a pro...        -            -  "
      ]
     },
     "execution_count": 70,
     "metadata": {},
     "output_type": "execute_result"
    }
   ],
   "source": [
    "import pandas as pd\n",
    "tag1 = pd.DataFrame()\n",
    "tag1['Title'] = job_title\n",
    "tag1['Description'] = job_description\n",
    "tag1['Location'] = job_location\n",
    "tag1['Company Name'] = company_name\n",
    "tag1"
   ]
  },
  {
   "cell_type": "code",
   "execution_count": 71,
   "id": "c86aaa95",
   "metadata": {},
   "outputs": [],
   "source": [
    "#Write a python program to scrape data for “Data Analyst” Job position in \n",
    "#“Bangalore” location. You have to scrape the job-title, job-location, company_name,\n",
    "#experience_required. You have to scrape first 10 jobs data."
   ]
  },
  {
   "cell_type": "code",
   "execution_count": 72,
   "id": "5796fe67",
   "metadata": {},
   "outputs": [],
   "source": [
    "#get url\n",
    "url = 'https://www.naukri.com/'\n",
    "driver.get(url)\n",
    "\n",
    "#Fetching urls\n",
    "urls = []\n",
    "for i in driver.find_elements_by_xpath(\"//a[@class='title fw500 ellipsis']\"):\n",
    "    urls.append(i.get_attribute(\"href\"))"
   ]
  },
  {
   "cell_type": "code",
   "execution_count": 73,
   "id": "41c482f4",
   "metadata": {},
   "outputs": [
    {
     "data": {
      "text/plain": [
       "[]"
      ]
     },
     "execution_count": 73,
     "metadata": {},
     "output_type": "execute_result"
    }
   ],
   "source": [
    "len(urls)\n",
    "urls"
   ]
  },
  {
   "cell_type": "code",
   "execution_count": 74,
   "id": "e517fbd6",
   "metadata": {},
   "outputs": [],
   "source": [
    "#defining variables\n",
    "job_title1=[]\n",
    "job_location1=[]\n",
    "company_name1=[]\n",
    "job_experience=[]"
   ]
  },
  {
   "cell_type": "code",
   "execution_count": 75,
   "id": "a283c19f",
   "metadata": {},
   "outputs": [],
   "source": [
    "for i in urls[:10]:\n",
    "    driver.get(i)\n",
    "    #time.sleep(5)\n",
    "    #fetching job title\n",
    "    try:\n",
    "        job1=driver.find_element_by_xpath(\"//h1[@class='jd-header-title']\")\n",
    "        job_title1.append(job1.text.replace(\"/n\",\"new line\"))\n",
    "    except NoSuchElementException:\n",
    "        job_title.append('-')\n",
    "    #fetching job location\n",
    "    try:\n",
    "        job_loc1=driver.find_element_by_xpath(\"//span[@class='ellipsis fleft fs12 lh16']\")\n",
    "        job_location1.append(job_loc1.text)\n",
    "    except:\n",
    "        job_location.append('-')\n",
    "        #fetching company name\n",
    "    try:\n",
    "        comp_name1=driver.find_element_by_xpath(\"//a[@class='subTitle ellipsis fleft']\")\n",
    "        company_name1.append(comp_name1.text)\n",
    "    except:\n",
    "        company_name.append('-')\n",
    "\n",
    "    #fetching job experience\n",
    "    try:\n",
    "        job_exp=driver.find_element_by_xpath(\"//li[@class='fleft grey-text br2 placeHolderLi experience']/span\")\n",
    "        job_experience.append(job_exp.text)\n",
    "    except:\n",
    "        job_experience.append('-')"
   ]
  },
  {
   "cell_type": "code",
   "execution_count": 76,
   "id": "6d2fac35",
   "metadata": {},
   "outputs": [
    {
     "data": {
      "text/html": [
       "<div>\n",
       "<style scoped>\n",
       "    .dataframe tbody tr th:only-of-type {\n",
       "        vertical-align: middle;\n",
       "    }\n",
       "\n",
       "    .dataframe tbody tr th {\n",
       "        vertical-align: top;\n",
       "    }\n",
       "\n",
       "    .dataframe thead th {\n",
       "        text-align: right;\n",
       "    }\n",
       "</style>\n",
       "<table border=\"1\" class=\"dataframe\">\n",
       "  <thead>\n",
       "    <tr style=\"text-align: right;\">\n",
       "      <th></th>\n",
       "      <th>Title</th>\n",
       "      <th>Description</th>\n",
       "      <th>Location</th>\n",
       "      <th>Company Name</th>\n",
       "    </tr>\n",
       "  </thead>\n",
       "  <tbody>\n",
       "  </tbody>\n",
       "</table>\n",
       "</div>"
      ],
      "text/plain": [
       "Empty DataFrame\n",
       "Columns: [Title, Description, Location, Company Name]\n",
       "Index: []"
      ]
     },
     "execution_count": 76,
     "metadata": {},
     "output_type": "execute_result"
    }
   ],
   "source": [
    "import pandas as pd\n",
    "tag2 = pd.DataFrame()\n",
    "tag2['Title'] = job_title1\n",
    "tag2['Description'] = job_experience\n",
    "tag2['Location'] = job_location1\n",
    "tag2['Company Name'] = company_name1\n",
    "tag2"
   ]
  },
  {
   "cell_type": "code",
   "execution_count": null,
   "id": "cbf51061",
   "metadata": {},
   "outputs": [],
   "source": []
  },
  {
   "cell_type": "code",
   "execution_count": null,
   "id": "5abed0e7",
   "metadata": {},
   "outputs": [],
   "source": []
  },
  {
   "cell_type": "code",
   "execution_count": null,
   "id": "c37cd0db",
   "metadata": {},
   "outputs": [],
   "source": []
  },
  {
   "cell_type": "code",
   "execution_count": null,
   "id": "5ba2b8e8",
   "metadata": {},
   "outputs": [],
   "source": []
  },
  {
   "cell_type": "code",
   "execution_count": null,
   "id": "c35ec8eb",
   "metadata": {},
   "outputs": [],
   "source": []
  },
  {
   "cell_type": "code",
   "execution_count": null,
   "id": "be117e94",
   "metadata": {},
   "outputs": [],
   "source": []
  },
  {
   "cell_type": "code",
   "execution_count": null,
   "id": "76fa3fc1",
   "metadata": {},
   "outputs": [],
   "source": [
    "\n"
   ]
  },
  {
   "cell_type": "code",
   "execution_count": null,
   "id": "c36bdcaa",
   "metadata": {},
   "outputs": [],
   "source": []
  },
  {
   "cell_type": "code",
   "execution_count": null,
   "id": "d5b3699b",
   "metadata": {},
   "outputs": [],
   "source": []
  },
  {
   "cell_type": "code",
   "execution_count": null,
   "id": "d021c99a",
   "metadata": {},
   "outputs": [],
   "source": []
  },
  {
   "cell_type": "code",
   "execution_count": null,
   "id": "06a5f0fb",
   "metadata": {},
   "outputs": [],
   "source": []
  },
  {
   "cell_type": "code",
   "execution_count": null,
   "id": "75cf924f",
   "metadata": {},
   "outputs": [],
   "source": []
  },
  {
   "cell_type": "code",
   "execution_count": null,
   "id": "6a92d8e0",
   "metadata": {},
   "outputs": [],
   "source": []
  },
  {
   "cell_type": "code",
   "execution_count": null,
   "id": "4c50034c",
   "metadata": {},
   "outputs": [],
   "source": []
  },
  {
   "cell_type": "code",
   "execution_count": null,
   "id": "07b75d49",
   "metadata": {},
   "outputs": [],
   "source": []
  },
  {
   "cell_type": "code",
   "execution_count": null,
   "id": "27c87204",
   "metadata": {},
   "outputs": [],
   "source": []
  },
  {
   "cell_type": "code",
   "execution_count": null,
   "id": "b179f619",
   "metadata": {},
   "outputs": [],
   "source": []
  },
  {
   "cell_type": "code",
   "execution_count": null,
   "id": "e4157fab",
   "metadata": {},
   "outputs": [],
   "source": []
  },
  {
   "cell_type": "code",
   "execution_count": null,
   "id": "236bd893",
   "metadata": {},
   "outputs": [],
   "source": []
  },
  {
   "cell_type": "code",
   "execution_count": null,
   "id": "6f2e1fa5",
   "metadata": {},
   "outputs": [],
   "source": []
  },
  {
   "cell_type": "code",
   "execution_count": null,
   "id": "e15e2d78",
   "metadata": {},
   "outputs": [],
   "source": []
  },
  {
   "cell_type": "code",
   "execution_count": null,
   "id": "f427c996",
   "metadata": {},
   "outputs": [],
   "source": []
  },
  {
   "cell_type": "code",
   "execution_count": null,
   "id": "4f8cd50f",
   "metadata": {},
   "outputs": [],
   "source": []
  },
  {
   "cell_type": "code",
   "execution_count": null,
   "id": "7cf69462",
   "metadata": {},
   "outputs": [],
   "source": []
  },
  {
   "cell_type": "code",
   "execution_count": null,
   "id": "486b341f",
   "metadata": {},
   "outputs": [],
   "source": []
  },
  {
   "cell_type": "code",
   "execution_count": null,
   "id": "f75215d4",
   "metadata": {},
   "outputs": [],
   "source": []
  },
  {
   "cell_type": "code",
   "execution_count": null,
   "id": "904b5586",
   "metadata": {},
   "outputs": [],
   "source": []
  },
  {
   "cell_type": "code",
   "execution_count": null,
   "id": "d5e78a6e",
   "metadata": {},
   "outputs": [],
   "source": []
  },
  {
   "cell_type": "code",
   "execution_count": null,
   "id": "8907a181",
   "metadata": {},
   "outputs": [],
   "source": []
  },
  {
   "cell_type": "code",
   "execution_count": null,
   "id": "d5d10449",
   "metadata": {},
   "outputs": [],
   "source": []
  },
  {
   "cell_type": "code",
   "execution_count": null,
   "id": "b1933eef",
   "metadata": {},
   "outputs": [],
   "source": []
  },
  {
   "cell_type": "code",
   "execution_count": null,
   "id": "3f5f8e12",
   "metadata": {},
   "outputs": [],
   "source": []
  },
  {
   "cell_type": "code",
   "execution_count": null,
   "id": "dc424b43",
   "metadata": {},
   "outputs": [],
   "source": []
  },
  {
   "cell_type": "code",
   "execution_count": null,
   "id": "1b29ae83",
   "metadata": {},
   "outputs": [],
   "source": []
  },
  {
   "cell_type": "code",
   "execution_count": null,
   "id": "ea55a561",
   "metadata": {},
   "outputs": [],
   "source": []
  },
  {
   "cell_type": "code",
   "execution_count": null,
   "id": "fe7f42f3",
   "metadata": {},
   "outputs": [],
   "source": []
  },
  {
   "cell_type": "code",
   "execution_count": null,
   "id": "88ba73ef",
   "metadata": {},
   "outputs": [],
   "source": []
  },
  {
   "cell_type": "code",
   "execution_count": null,
   "id": "ec3409ee",
   "metadata": {},
   "outputs": [],
   "source": []
  },
  {
   "cell_type": "code",
   "execution_count": null,
   "id": "ad579ee3",
   "metadata": {},
   "outputs": [],
   "source": []
  },
  {
   "cell_type": "code",
   "execution_count": null,
   "id": "f66eda57",
   "metadata": {},
   "outputs": [],
   "source": []
  },
  {
   "cell_type": "code",
   "execution_count": null,
   "id": "6b24dd5e",
   "metadata": {},
   "outputs": [],
   "source": []
  },
  {
   "cell_type": "code",
   "execution_count": null,
   "id": "e460c731",
   "metadata": {},
   "outputs": [],
   "source": []
  },
  {
   "cell_type": "code",
   "execution_count": null,
   "id": "1418ba19",
   "metadata": {},
   "outputs": [],
   "source": []
  },
  {
   "cell_type": "code",
   "execution_count": null,
   "id": "126cd91d",
   "metadata": {},
   "outputs": [],
   "source": []
  },
  {
   "cell_type": "code",
   "execution_count": null,
   "id": "75904b92",
   "metadata": {},
   "outputs": [],
   "source": []
  },
  {
   "cell_type": "code",
   "execution_count": null,
   "id": "bc849978",
   "metadata": {},
   "outputs": [],
   "source": []
  },
  {
   "cell_type": "code",
   "execution_count": null,
   "id": "43315624",
   "metadata": {},
   "outputs": [],
   "source": []
  },
  {
   "cell_type": "code",
   "execution_count": null,
   "id": "98f3fd81",
   "metadata": {},
   "outputs": [],
   "source": []
  },
  {
   "cell_type": "code",
   "execution_count": null,
   "id": "31f8078d",
   "metadata": {},
   "outputs": [],
   "source": []
  },
  {
   "cell_type": "code",
   "execution_count": null,
   "id": "3f041603",
   "metadata": {},
   "outputs": [],
   "source": []
  },
  {
   "cell_type": "code",
   "execution_count": null,
   "id": "d72c56cc",
   "metadata": {},
   "outputs": [],
   "source": []
  },
  {
   "cell_type": "code",
   "execution_count": null,
   "id": "37a68e61",
   "metadata": {},
   "outputs": [],
   "source": []
  },
  {
   "cell_type": "code",
   "execution_count": null,
   "id": "e650538f",
   "metadata": {},
   "outputs": [],
   "source": []
  },
  {
   "cell_type": "code",
   "execution_count": null,
   "id": "a48bc4fe",
   "metadata": {},
   "outputs": [],
   "source": []
  },
  {
   "cell_type": "code",
   "execution_count": null,
   "id": "ea3165a1",
   "metadata": {},
   "outputs": [],
   "source": []
  },
  {
   "cell_type": "code",
   "execution_count": null,
   "id": "de4271ef",
   "metadata": {},
   "outputs": [],
   "source": []
  }
 ],
 "metadata": {
  "kernelspec": {
   "display_name": "Python 3",
   "language": "python",
   "name": "python3"
  },
  "language_info": {
   "codemirror_mode": {
    "name": "ipython",
    "version": 3
   },
   "file_extension": ".py",
   "mimetype": "text/x-python",
   "name": "python",
   "nbconvert_exporter": "python",
   "pygments_lexer": "ipython3",
   "version": "3.8.8"
  }
 },
 "nbformat": 4,
 "nbformat_minor": 5
}
